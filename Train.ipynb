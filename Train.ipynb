{
 "cells": [
  {
   "cell_type": "code",
   "execution_count": 113,
   "metadata": {},
   "outputs": [],
   "source": [
    "\n",
    "# coding: utf-8\n",
    "\n",
    "# In[19]:\n",
    "\n",
    "import keras\n",
    "from keras.datasets import mnist\n",
    "from keras.models import Sequential\n",
    "from keras.layers import Dense, Dropout, Flatten\n",
    "from keras.layers import Conv2D, MaxPooling2D,Convolution2D,Activation\n",
    "from keras import backend as K\n",
    "import numpy as np\n",
    "import cv2\n",
    "import os\n",
    "import os.path\n",
    "import xlrd\n",
    "from sklearn import svm\n",
    "import numpy as np\n",
    "import pdb\n",
    "import csv\n",
    "K.set_image_dim_ordering('tf')\n",
    "\n",
    "def translate(image, x, y):\n",
    "    # 定义平移矩阵\n",
    "    M = np.float32([[1, 0, x], [0, 1, y]])\n",
    "    shifted = cv2.warpAffine(image, M, (image.shape[1], image.shape[0]))\n",
    " \n",
    "    return shifted\n",
    "\n"
   ]
  },
  {
   "cell_type": "code",
   "execution_count": 114,
   "metadata": {},
   "outputs": [
    {
     "output_type": "stream",
     "name": "stdout",
     "text": [
      "['5', '5', '2', '0', '0', '7', '9', '9', '0', '7', '8', '0', '2', '5', '2', '5', '5', '2', '2', '8', '7', '9', '9', '7', '8', '2', '2', '5', '2', '2', '5', '8', '6', '9', '.DS', '7', '7', '9', '6', '8', '5', '2', '2', '2', '5', '2', '2', '5', '8', '7', '0', '7', '4', '4', '7', '9', '7', '0', '8', '2', '5', '5', '2', '2', '1', '8', '9', '6', '6', '3', '4', '3', '3', '4', '3', '6', '6', '9', '8', '1', '8', '6', '1', '6', '6', '3', '4', '1', '1', '4', '3', '6', '6', '6', '1', '9', '8', '5', '8', '6', '6', '8', '9', '1', '8', '4', '4', '3', '4', '3', '4', '1', '8', '9', '8', '6', '6', '8', '5', '6', '6', '1', '8', '9', '7', '4', '3', '3', '4', '7', '9', '8', '1', '6', '6', '5', '5', '8', '6', '7', '3', '4', '1', '3', '1', '4', '3', '7', '6', '8', '5', '5', '5', '5', '1', '8', '1', '6', '9', '8', '7', '3', '4', '3', '3', '1', '4', '3', '7', '8', '9', '1', '6', '1', '5', '5', '5', '5', '6', '6', '1', '8', '7', '3', '4', '1', '3', '3', '1', '3', '3', '4', '7', '8', '6', '1', '6', '5', '5', '6', '8', '1', '4', '1', '3', '3', '1', '4', '7', '1', '8', '6', '5', '5', '5', '2', '5', '2', '2', '8', '6', '7', '7', '7', '0', '4', '4', '7', '0', '7', '7', '6', '8', '0', '2', '2', '2', '5', '5', '5', '5', '2', '2', '0', '6', '7', '0', '4', '4', '0', '7', '6', '0', '2', '5', '5', '2', '5', '5', '2', '0', '0', '7', '4', '4', '7', '0', '6', '0', '2', '5', '5', '2', '5', '2', '5', '5', '2', '0', '6', '0', '9', '7', '4', '7', '9', '0', '6', '0', '2', '5', '5', '5', '2']\n"
     ]
    }
   ],
   "source": [
    "#!/usr/bin/python\n",
    "# -*- coding: utf-8 -*-\n",
    "from os import listdir\n",
    "from os.path import isfile, isdir, join\n",
    "from random import randrange\n",
    "# 指定要列出所有檔案的目錄\n",
    "mypath = \"/Users/Jason/Documents/Scripts/RecognizeBingoNumberFromTV/Train/\"\n",
    "\n",
    "# 取得所有檔案與子目錄名稱\n",
    "files = listdir(mypath)\n",
    "\n",
    "labels = []\n",
    "filelist = []\n",
    "i = 0\n",
    "# 以迴圈處理\n",
    "for f in files:\n",
    "  # 產生檔案的絕對路徑\n",
    "  fullpath = join(mypath, f)\n",
    "  # 判斷 fullpath 是檔案還是目錄\n",
    "  if isfile(fullpath):\n",
    "    i+=1\n",
    "    labels.append(str(f).split(\"_\")[0])\n",
    "    filelist.append(str(f))\n",
    "    # print(\"{index}. 檔案：{filename}\".format(index = i,filename=f))\n",
    "print (labels)"
   ]
  },
  {
   "cell_type": "code",
   "execution_count": 115,
   "metadata": {
    "tags": []
   },
   "outputs": [
    {
     "output_type": "stream",
     "name": "stdout",
     "text": [
      "picnum :  294\n",
      "Read all images and labels\n",
      "1168\n"
     ]
    }
   ],
   "source": [
    "\n",
    "X = []\n",
    "y = []\n",
    "#讀取總共有幾張訓練圖\n",
    "picnum = len(labels)\n",
    "print (\"picnum : \",picnum)\n",
    "img = None\n",
    "\n",
    "#縮放圖片大小\n",
    "Max_Width=20\n",
    "Max_Hight=20\n",
    "kernel = np.ones((2,1), np.uint8)\n",
    "for i in range(1,picnum):\n",
    "    img = cv2.imread(mypath + \"{filename}\".format(filename = filelist[i]),0)\n",
    "\n",
    "    try:\n",
    "        img = cv2.resize(img, (Max_Width, Max_Hight), interpolation=cv2.INTER_CUBIC)\n",
    "        img_dilate = img.copy()\n",
    "        img_erode = img.copy()\n",
    "        img_translate = img.copy()\n",
    "\n",
    "        #隨機橫向或直向移動+-3個像素點\n",
    "        img_translate = translate(img_translate,randrange(4),randrange(4))\n",
    "\n",
    "        #腐蝕\n",
    "        img_dilate = cv2.dilate(img_dilate, kernel, iterations = 1)\n",
    "\n",
    "        #膨脹\n",
    "        img_erode = cv2.erode(img_erode, kernel, iterations = 1)\n",
    "\n",
    "\n",
    "        X.append(img_translate)    \n",
    "        y.append(labels[i])\n",
    "\n",
    "        X.append(img_dilate)    \n",
    "        y.append(labels[i])\n",
    "\n",
    "        X.append(img_erode)    \n",
    "        y.append(labels[i])\n",
    "\n",
    "        X.append(img)    \n",
    "        y.append(labels[i])\n",
    "\n",
    "    except:\n",
    "        continue\n",
    "print(\"Read all images and labels\")\n",
    "print (len(X))\n"
   ]
  },
  {
   "cell_type": "code",
   "execution_count": 116,
   "metadata": {},
   "outputs": [
    {
     "output_type": "stream",
     "name": "stdout",
     "text": [
      "Done\n"
     ]
    }
   ],
   "source": [
    "\n",
    "\n",
    "#定義類別輸出神經元對應到的英文字母與數字\n",
    "labeldict = {            '0':0,\n",
    "\t\t\t\t\t\t '1':1,\n",
    "\t\t\t\t\t\t '2':2,\n",
    "\t\t\t\t\t\t '3':3,\n",
    "\t\t\t\t\t\t '4':4,\n",
    "\t\t\t\t\t\t '5':5,\n",
    "\t\t\t\t\t\t '6':6,\n",
    "\t\t\t\t\t\t '7':7,\n",
    "\t\t\t\t\t\t '8':8,\n",
    "\t\t\t\t\t\t '9':9}\n",
    "num_classes = 10\n",
    "\n",
    "X = np.array(X)\n",
    "\n",
    "\n",
    "for i in range(len(y)):\n",
    "    c = keras.utils.to_categorical(labeldict[y[i]], num_classes)   \n",
    "    y[i] = c\n",
    "\n",
    "print (\"Done\")"
   ]
  },
  {
   "cell_type": "code",
   "execution_count": 117,
   "metadata": {
    "tags": []
   },
   "outputs": [],
   "source": [
    "\n",
    "y = np.array(y)\n",
    "\n",
    "\n",
    "\n",
    "\n",
    "batch_size = 25\n",
    "\n",
    "\n",
    "\n",
    "\n",
    "# img_rows, img_cols = 20, 80\n",
    "\n",
    "\n",
    "x_train = X[:int(len(X)*0.8)]\n",
    "y_train = y[:int(len(y)*0.8)]\n",
    "x_test = X[int(len(X)*0.8):]\n",
    "y_test = y[int(len(y)*0.8):]\n",
    "\n",
    "\n",
    "#重新設定圖片的cols\n",
    "# np.array(x_train).reshape(len(x_train), 1, img_rows, img_cols)/255\n",
    "\n",
    "\n"
   ]
  },
  {
   "cell_type": "code",
   "execution_count": 118,
   "metadata": {},
   "outputs": [],
   "source": [
    "\n",
    "x_train = x_train.reshape(x_train.shape[0], Max_Width, Max_Hight, 1)\n",
    "x_test = x_test.reshape(x_test.shape[0], Max_Width, Max_Hight, 1)\n",
    "\n",
    "input_shape=(Max_Width, Max_Hight, 1)\n",
    "x_train = 255 - x_train\n",
    "x_test = 255 - x_test\n",
    "x_train = x_train.astype('float32')\n",
    "x_test = x_test.astype('float32')\n",
    "x_train /= 255\n",
    "x_test /= 255\n",
    "\n",
    "\n",
    "#定義模型\n",
    "model = Sequential() \n",
    "model.add(Convolution2D(32, (3, 3), input_shape=input_shape))\n",
    "model.add(Activation('relu'))\n",
    "model.add(Convolution2D(32, (3, 3)))  \n",
    "model.add(Activation('relu'))\n",
    "model.add(MaxPooling2D(pool_size=(2, 2)))\n",
    "model.add(Dropout(0.25))   \n",
    "\n",
    "model.add(Convolution2D(64, (3, 3))) \n",
    "model.add(Activation('relu'))     \n",
    "model.add(Convolution2D(64, (3, 3)))     \n",
    "model.add(Activation('relu'))     \n",
    "model.add(MaxPooling2D(pool_size=(2, 2)))     \n",
    "model.add(Dropout(0.25))\n",
    "               \n",
    "model.add(Flatten())\n",
    " \n",
    "model.add(Dense(200)) \n",
    "model.add(Activation('relu')) \n",
    "model.add(Dropout(0.5))      \n",
    "model.add(Dense(num_classes)) \n",
    "model.add(Activation('softmax'))\n",
    "\n",
    "model.compile(loss=keras.losses.binary_crossentropy,\n",
    "\t\t\t\t\t\t\toptimizer=keras.optimizers.Adadelta(),\n",
    "\t\t\t\t\t\t\tmetrics=['accuracy'])\n",
    "\n",
    "\n"
   ]
  },
  {
   "cell_type": "code",
   "execution_count": 119,
   "metadata": {
    "tags": []
   },
   "outputs": [
    {
     "output_type": "stream",
     "name": "stdout",
     "text": [
      "Train on 934 samples, validate on 234 samples\n",
      "Epoch 1/10\n",
      "934/934 [==============================] - 4s 5ms/step - loss: 0.3201 - acc: 0.9000 - val_loss: 0.3595 - val_acc: 0.9000\n",
      "Epoch 2/10\n",
      "934/934 [==============================] - 2s 2ms/step - loss: 0.2846 - acc: 0.8994 - val_loss: 0.2580 - val_acc: 0.9154\n",
      "Epoch 3/10\n",
      "934/934 [==============================] - 3s 3ms/step - loss: 0.2340 - acc: 0.9093 - val_loss: 0.1388 - val_acc: 0.9513\n",
      "Epoch 4/10\n",
      "934/934 [==============================] - 2s 3ms/step - loss: 0.1681 - acc: 0.9342 - val_loss: 0.1803 - val_acc: 0.9231\n",
      "Epoch 5/10\n",
      "934/934 [==============================] - 2s 3ms/step - loss: 0.1307 - acc: 0.9488 - val_loss: 0.1240 - val_acc: 0.9423\n",
      "Epoch 6/10\n",
      "934/934 [==============================] - 2s 3ms/step - loss: 0.0995 - acc: 0.9635 - val_loss: 0.0573 - val_acc: 0.9808\n",
      "Epoch 7/10\n",
      "934/934 [==============================] - 2s 2ms/step - loss: 0.0771 - acc: 0.9710 - val_loss: 0.0588 - val_acc: 0.9761\n",
      "Epoch 8/10\n",
      "934/934 [==============================] - 2s 2ms/step - loss: 0.0654 - acc: 0.9752 - val_loss: 0.0700 - val_acc: 0.9714\n",
      "Epoch 9/10\n",
      "934/934 [==============================] - 2s 2ms/step - loss: 0.0566 - acc: 0.9758 - val_loss: 0.0485 - val_acc: 0.9829\n",
      "Epoch 10/10\n",
      "934/934 [==============================] - 2s 2ms/step - loss: 0.0543 - acc: 0.9805 - val_loss: 0.0240 - val_acc: 0.9932\n",
      "Test loss: 0.023983119963071287\n",
      "Test accuracy: 0.9931623950982705\n"
     ]
    }
   ],
   "source": [
    "#訓練次數\n",
    "epochs = 10\n",
    "\n",
    "#開始訓練\n",
    "#將監督資料輸入後開始訓練\n",
    "model.fit(x_train, y_train,\n",
    "\t\t\t\t\tbatch_size=batch_size,\n",
    "\t\t\t\t\tepochs=epochs,\n",
    "\t\t\t\t\tverbose=1,\n",
    "\t\t\t\t\tvalidation_data=(x_test, y_test))\n",
    "\n",
    "\n",
    "\n",
    "\n",
    "# 指定要列出所有檔案的目錄\n",
    "ModelPath = \"/Users/Jason/Documents/Scripts/RecognizeBingoNumberFromTV/Models/\"\n",
    "\n",
    "#儲存模型\n",
    "model.save(ModelPath + '/model.h5')\n",
    "\n",
    "\n",
    "#評估準確度\n",
    "score = model.evaluate(x_test, y_test, verbose=0)\n",
    "print('Test loss:', score[0])\n",
    "print('Test accuracy:', score[1])\n",
    "\n"
   ]
  },
  {
   "cell_type": "code",
   "execution_count": 120,
   "metadata": {},
   "outputs": [
    {
     "output_type": "stream",
     "name": "stdout",
     "text": [
      "Test Whole Accurate :  0.0\n"
     ]
    }
   ],
   "source": [
    "\n",
    "# In[35]:\n",
    "\n",
    "pred = model.predict(x_test,batch_size = 25)\n",
    "\n",
    "\n",
    "# In[36]:\n",
    "\n",
    "outdict = ['0','1','2','3','4','5','6','7','8','9']\n",
    "\n",
    "Resultlables=[]\n",
    "correct_num = 0\n",
    "for i in range(pred.shape[0]):\n",
    "\ttry:\n",
    "\t\tc0 = outdict[np.argmax(pred[i][:10])]\n",
    "\t\tcaptchaImg = c0\n",
    "\t\t#print c,lables[8000+i][1]\n",
    "\t\tResultlables.append((str(len(picnum)+i),captchaImg))\n",
    "\t\tif captchaImg == lables[len(picnum)+i][1]:\n",
    "\t\t\t#每成功一次就在成功率的基數下+1，這樣才能估算成功率\n",
    "\t\t\tcorrect_num = correct_num + 1\n",
    "\texcept:\n",
    "\t\tpass\n",
    "#統計正確率 0-1.0\n",
    "print (\"Test Whole Accurate : \", float(correct_num)/len(pred))\n",
    "\n"
   ]
  },
  {
   "cell_type": "code",
   "execution_count": null,
   "metadata": {},
   "outputs": [],
   "source": []
  }
 ],
 "metadata": {
  "kernelspec": {
   "display_name": "Python 3",
   "language": "python",
   "name": "python3"
  },
  "language_info": {
   "codemirror_mode": {
    "name": "ipython",
    "version": 3
   },
   "file_extension": ".py",
   "mimetype": "text/x-python",
   "name": "python",
   "nbconvert_exporter": "python",
   "pygments_lexer": "ipython3",
   "version": "3.6.1-final"
  }
 },
 "nbformat": 4,
 "nbformat_minor": 2
}